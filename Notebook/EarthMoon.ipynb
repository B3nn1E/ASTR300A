{
 "cells": [
  {
   "cell_type": "code",
   "execution_count": null,
   "metadata": {},
   "outputs": [],
   "source": [
    "import numpy as np\n",
    "import matplotlib.pyplot as plt\n",
    "\n",
    "%matplotlib inline"
   ]
  },
  {
   "cell_type": "markdown",
   "metadata": {},
   "source": [
    "### Constants for Earth Moon system\n",
    "\n",
    "Some constants are written for you for convenience.  Others you need to fill in.  You don't have to use these, but they should be helpful."
   ]
  },
  {
   "cell_type": "code",
   "execution_count": null,
   "metadata": {},
   "outputs": [],
   "source": [
    "#constants in cgs\n",
    "G = 6.673e-08 #cm**3/g/s**2\n",
    "day = 24*3600 #useful\n",
    "#below we use a list trick to assign multiple values in a single line\n",
    "Me, Re = 5.9742e27, 6.371e+08 #g, cm\n",
    "Mm, Rm = 7.346052e25, 1.73737e+08 #g, cm\n",
    "aem = 3.844e10 #current earth moon dist. [cm]\n",
    "\n",
    "#constants for students to complete\n",
    "M =  # total mass\n",
    "mu =  # reduced mass\n",
    "Omi =  # current orb freq. [s]\n",
    "Ie =  # Earth mom. of inert.\n",
    "Im =  # moon mom. of inert.\n"
   ]
  },
  {
   "cell_type": "markdown",
   "metadata": {},
   "source": [
    "### a) Calculate current total angular momentum and the fractional contributions\n",
    "\n",
    "A helpful calculator for part a.  Also you need <code>Ltot</code> for part d, so might as well compute it here."
   ]
  },
  {
   "cell_type": "code",
   "execution_count": null,
   "metadata": {},
   "outputs": [],
   "source": [
    "#current ang. momenta.\n",
    "Lorb =  #orbital angular momentum (using mu, M, aem)\n",
    "Lorb2 = mu*Omi*aem**2 #a different way of writing Lorb, check that this value agrees with your result above!\n",
    "Le = \n",
    "Lm = \n",
    "Ltot = \n",
    "forb, fe, fm =   #again using unpacking (can do seperately if you prefer)\n",
    "print(f'total ang mom is {Ltot:0.3e}') #here we are using formatting tools, not necessary for you to learn, but nice\n",
    "print(f'fraction in orbit is {forb:0.3f}, in Earth spin is {fe:0.3f}')\n",
    "print(f'and fraction in Moon spin is {fm:0.2e}')"
   ]
  },
  {
   "cell_type": "markdown",
   "metadata": {},
   "source": [
    "### b) Estimate of \"initial\" Earth day.\n",
    "Helpful, but nothing you need for part d if you prefer to do this part without the notebook"
   ]
  },
  {
   "cell_type": "code",
   "execution_count": null,
   "metadata": {},
   "outputs": [],
   "source": [
    "ai = 4*Re #set initial orbital separation\n",
    "Lorbi = #orbital ang. mom. at ai\n",
    "omi =   #initial spin rate\n",
    "Pi =   #initial period [s]\n",
    "print(f'initial earth day estimate (after moon formation) is {Pi/3600:0.1f} hours')\n"
   ]
  },
  {
   "cell_type": "markdown",
   "metadata": {},
   "source": [
    "### c) Largest Earth Moon orbit\n",
    "You will need to calculate <code>amax</code> for part e."
   ]
  },
  {
   "cell_type": "code",
   "execution_count": null,
   "metadata": {},
   "outputs": [],
   "source": [
    "#largest possible orbit\n",
    "amax = \n",
    "Ommin = \n",
    "Pmax = \n",
    "print(f'Largest moon orbit is {amax/aem:0.1f} larger than current, with period {Pmax/day:0.1f} days')"
   ]
  },
  {
   "cell_type": "markdown",
   "metadata": {},
   "source": [
    "### d) Finding the Double Syncronous State\n",
    "\n",
    "First make a plot of how the contributions to the angular momentum change as the Earth Moon separation $a$ changes.  Specifically plot $L_{\\rm orb}/L_{\\rm tot}$ and  $L_{\\oplus}/L_{\\rm tot}$ (Earth spin) vs. $a/a_{\\rm now}$ (i.e. normalize $a$ to the current <code>aem</code> defined above)."
   ]
  },
  {
   "cell_type": "code",
   "execution_count": null,
   "metadata": {},
   "outputs": [],
   "source": [
    "#Solve for dual syncronous state graphically\n",
    "#create these simple functions of a \n",
    "Lorba(a):\n",
    "    return #orbital L vs separation a\n",
    "Lea(a):\n",
    "    return # L in earth spin.\n",
    "\n",
    "av = np.linspace(4*Re, amax*.999, 100) #a values, stopping just short of amax calculated above (plot convenience)\n",
    "Lorbv, Lev = Lorba(av), Lea(av) #this should create your arrays for plotting\n",
    "\n",
    "#if you add labels to the plot command you can make a legend\n",
    "plt.plot(, label= 'orbital')\n",
    "plt.plot(, label = 'Earth spin')\n",
    "#make sure these labels (above and below) describe what you're plotting!\n",
    "plt.xlabel(\"a/a_now\")\n",
    "plt.ylabel(\"L/L_tot\")\n",
    "plt.legend()\n",
    "plt.ylim(bottom = 0) #you shouldn't need negative values!"
   ]
  },
  {
   "cell_type": "markdown",
   "metadata": {},
   "source": [
    "The first plot is nice but doesn't show where we get Earth spin and (Earth Moon) orbit syncronization.  To show where $\\omega_\\oplus = \\Omega$ (spin rate equals orbital freq.), plot $\\omega_\\oplus/\\Omega$ vs. $a/a_{\\rm now}$ and see where the value crosses 1."
   ]
  },
  {
   "cell_type": "code",
   "execution_count": null,
   "metadata": {},
   "outputs": [],
   "source": [
    "#compare spin and orbit freqencies\n",
    "Omv =  #evolving orbital freq (you should use arrays and values you've already created above)\n",
    "omev =  #evolving Earth spin rate\n",
    "plt.plot()\n",
    "plt.axhline(1, c = 'k', ls = ':')  #this is a reference line of 1\n",
    "plt.ylabel('om_Earth / Om_orb')\n",
    "plt.xlabel(\"a/a_now\")\n",
    "plt.ylim(bottom = 0) #you shouldn't need negative values!"
   ]
  },
  {
   "cell_type": "markdown",
   "metadata": {},
   "source": [
    "Finally let's find the length of day at spin-orbit syncronization.  Plot both periods (Earth spin and orbital) vs. $a/a_{\\rm now}$.  Zoom in on the plot and adjust the reference line to find where the lines cross to good accuracy (2 figures).  "
   ]
  },
  {
   "cell_type": "code",
   "execution_count": null,
   "metadata": {},
   "outputs": [],
   "source": [
    "plt.plot(, label='Earth spin')\n",
    "plt.plot(, label='Orbit')\n",
    "plt.xlabel(\"a/a_now\")\n",
    "plt.ylabel('period [days]')\n",
    "plt.legend()\n",
    "plt.axhline(30, c='k', ls=':') #adjust the number iteratively to intersect and locate the period crossing\n",
    "#Uncomment the following lines and adjust the values to zoom in\n",
    "#plt.ylim(,)\n",
    "#plt.xlim(,)\n"
   ]
  },
  {
   "cell_type": "markdown",
   "metadata": {},
   "source": [
    "Hopefully you sucessfully created 3 plots and learned some astronomy and some python."
   ]
  }
 ],
 "metadata": {
  "kernelspec": {
   "display_name": "Python 3 (ipykernel)",
   "language": "python",
   "name": "python3"
  },
  "language_info": {
   "codemirror_mode": {
    "name": "ipython",
    "version": 3
   },
   "file_extension": ".py",
   "mimetype": "text/x-python",
   "name": "python",
   "nbconvert_exporter": "python",
   "pygments_lexer": "ipython3",
   "version": "3.9.18"
  }
 },
 "nbformat": 4,
 "nbformat_minor": 2
}
