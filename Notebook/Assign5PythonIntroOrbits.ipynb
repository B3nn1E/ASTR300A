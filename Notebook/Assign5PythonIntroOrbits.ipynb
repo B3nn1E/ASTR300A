{
 "cells": [
  {
   "cell_type": "markdown",
   "metadata": {},
   "source": [
    "# Assignment 5\n",
    "\n",
    "Please export this notebook as pdf (File -> Print Preview, then printing to pdf and/or File -> Download as -> PDF should work) and submit on gradescope.\n",
    "\n",
    "Here, we'll introduce some basic Python programming and Jupyter notebook use. \n",
    "\n",
    "Run the code in any cell below by typing `Shift+Enter`."
   ]
  },
  {
   "cell_type": "markdown",
   "metadata": {},
   "source": [
    "### Markdown language\n",
    "The advantages to using a Jupyter notebook instead of just a Python script (at least, for something like the exercises you'll do in class) is that you can display notes in plain text, like this, and you can keep all of your output without having to rerun the entire code if you want to change one small variable.\n",
    "\n",
    "First, let's learn how to make a \"Markdown\" cell, or a cell with text (not code) in it.  In the cell below, type `Esc`.  You should see the outline turn blue.  Then, type `m` and hit `Enter`.  This makes the cell a Markdown cell.  \n",
    "\n",
    "*Type yourself a message in it. Render the cell by typing `Shift+Enter`.*"
   ]
  },
  {
   "cell_type": "code",
   "execution_count": null,
   "metadata": {},
   "outputs": [],
   "source": []
  },
  {
   "cell_type": "markdown",
   "metadata": {},
   "source": [
    "We can write equations in our Markdown cell using the dollar sign (\\$) around our expression.  Markdown follows many of the `amsmath` LaTeX shorthands, meaning that we can easily typeset equations and have them look nice.  For a list of symbols that Markdown recognizes, look at [this link](http://csrgxtu.github.io/2015/03/20/Writing-Mathematic-Fomulars-in-Markdown/).\n",
    "\n",
    "For instance, this is what you type for an inline equation embedded in the text:\n",
    "\n",
    "`This is an inline equation $ y = x^4+\\sqrt{z} $`\n",
    "\n",
    "The above line renders to:\n",
    "\n",
    "This is an inline equation $y=x^4+\\sqrt{z}$\n",
    "\n",
    "If we want an equation on its own line, we use double dollar signs (\\$\\$).  For instance, I can type\n",
    "\n",
    "`$$ \\alpha = \\gamma^{2/3} \\times \\frac{x}{2\\pi} $$`\n",
    "\n",
    "which renders as\n",
    "\n",
    "$$ \\alpha=\\gamma^{2/3} \\times \\frac{x}{2\\pi} $$\n",
    "\n",
    "*Type the equation for Kepler's Third Law in Markdown below.*"
   ]
  },
  {
   "cell_type": "code",
   "execution_count": null,
   "metadata": {},
   "outputs": [],
   "source": []
  },
  {
   "cell_type": "markdown",
   "metadata": {},
   "source": [
    "There are lots and lots of things that Markdown can do.  I find [this link](https://github.com/adam-p/markdown-here/wiki/Markdown-Cheatsheet) to be helpful for many formatting tricks, and you can always double click or `click+Enter` on any of the cells in this notebook to see how they are written."
   ]
  },
  {
   "cell_type": "markdown",
   "metadata": {},
   "source": [
    "### Python programming\n",
    "\n",
    "Okay.  Now that we know how to use the Jupyter notebooks in general, we can start writing some code."
   ]
  },
  {
   "cell_type": "code",
   "execution_count": null,
   "metadata": {},
   "outputs": [],
   "source": [
    "# First, we need to import the packages neccessary for our tasks today: Numpy, a numerical package, and \n",
    "# Matplotlib, a plotting package.\n",
    "import numpy as np\n",
    "import matplotlib.pyplot as plt\n",
    "# to use anything (constant, function, etc. any \"object\") in these packages, you write:\n",
    "#  \"package name\".\"object name\" \n",
    "# for instance np.pi gives the constant pi\n",
    "\n",
    "# If we want to plot things in a Jupyter notebook, we need to make sure that the plots we make are displayed \n",
    "# in the notebook. Don't use this if you are not using a Jupyter notebook or some other iPython environment.\n",
    "%matplotlib inline"
   ]
  },
  {
   "cell_type": "markdown",
   "metadata": {},
   "source": [
    "There are a few basic things that you need to know how to do before we get to our main task for today.  You need to know how to make a function that returns a value, and you need to know how to make and save a plot. "
   ]
  },
  {
   "cell_type": "markdown",
   "metadata": {},
   "source": [
    "We can create a `function`. Here's an example for a simple polynomial $y(x)=ax^2+bx+c$:"
   ]
  },
  {
   "cell_type": "code",
   "execution_count": null,
   "metadata": {},
   "outputs": [],
   "source": [
    "# This is a definition of the funtion y, with all the parameters you want to pass.  \n",
    "# NOTE: a power in Python is given by **, not ^ !\n",
    "\n",
    "def y(x, a, b, c):\n",
    "    return a*x**2 + b*x + c\n",
    "\n",
    "# First, we evaluate y for a single set of parameters (and print the result)\n",
    "print(y(0.,1.,2.,3.)) # this returns y(0) with a=1, b=2, and c=3\n",
    "\n",
    "# We can also create an array of x values and pass that to our function, returning an array of y values.\n",
    "myx = np.array([0.,1.,2.,3.,4.])\n",
    "myy = y(myx,1.,2.,3.)\n",
    "print(myy)"
   ]
  },
  {
   "cell_type": "markdown",
   "metadata": {},
   "source": [
    "The next thing we want to do is plot our data.  Here's how to make a simple plot."
   ]
  },
  {
   "cell_type": "code",
   "execution_count": null,
   "metadata": {},
   "outputs": [],
   "source": [
    "# Using the example of y(x)=ax^2+bx+c from above\n",
    "# The simplest plot is just plt.plot(x,y)\n",
    "plt.plot(myx,myy)\n",
    "# If you want multiple lines on a plot, just call plt.plot() once for every line"
   ]
  },
  {
   "cell_type": "code",
   "execution_count": null,
   "metadata": {},
   "outputs": [],
   "source": [
    "# For more advanced plotting we define both a figure \"fig\" and a set of axes \"ax\" below.\n",
    "# To start, we use this command to set the size of our figure as a square.  \n",
    "fig, ax = plt.subplots(figsize=(6,6))\n",
    "\n",
    "# One point of axes is to put multiple plots on the same figure, but defining the axes \n",
    "# also gives more control over even a single plot.\n",
    "\n",
    "# Now, let's add some complexity to our plot.  We can specify many colors by the first letter of their name:\n",
    "# b=blue, g=green, r=red, y=yellow, w=white, c=cyan, m=magenta, k=black\n",
    "# We can also specify line styles\n",
    "# -- = dash, : = dotted, -. = dash-dot, - = solid\n",
    "# And we can specify marker styles\n",
    "# s=square, *=star, ^=triangle, o=circle\n",
    "# We combo these line/marker parameters together as the third parameter\n",
    "plt.plot(myx,myy,'r:*')\n",
    "\n",
    "# Let's put a random marker at the point (2,20)\n",
    "plt.plot([2],[20],'gs')\n",
    "# You could also run the above (and below) commands as ax.plot(...) to specify the axes to plot to.\n",
    "# Try it, and see that it doesn't make a difference here (as there's only one set of axes).\n",
    "\n",
    "# Let's also add labels and a title because those are important\n",
    "# AND REQUIRED ON PLOTS YOU TURN IN\n",
    "plt.xlabel('x')\n",
    "plt.ylabel('y')\n",
    "plt.title('Polynomial plot')\n",
    "\n",
    "# Finally, let's to shift the axes so that we can better see all the points. \n",
    "plt.xlim(-0.1,4.1) # xmin,xmax; I'm setting them to be just outside my x range so the end points show up.\n",
    "plt.ylim(2,28)\n",
    "\n",
    "# The 5 commands above could be done with the axes, but the commands are difference, they include \"set_\", e.g.:\n",
    "# ax.set_xlabel('new x')\n",
    "# ax.set_xlim(-0.3, 4.3)\n",
    "\n",
    "# One thing you can only do with the axes commands is set the aspect ratio.\n",
    "# ax.set_aspect('auto') #This is the default and changes nothing\n",
    "# ax.set_aspect(1) #Equal aspect ratio is good for orbits (next) but not here.\n",
    "\n",
    "\n",
    "# Now that we have a pretty plot, we can save our figure using savefig()\n",
    "plt.savefig('prettyplot.png')"
   ]
  },
  {
   "cell_type": "markdown",
   "metadata": {},
   "source": [
    "### Plotting orbits\n",
    "Our task for today is to plot elliptical orbits. From class, remember that \n",
    "$$ r(\\phi)=\\frac{a(1-e^2)}{1+e\\cos\\phi}$$\n",
    "\n",
    "*The first thing we need to do is create an array of values for $\\phi$ that we can then use to calculate $r$.  You can use `np.linspace(start, stop, num)` for array with `num` elements from `start` to `stop`*"
   ]
  },
  {
   "cell_type": "code",
   "execution_count": null,
   "metadata": {},
   "outputs": [],
   "source": []
  },
  {
   "cell_type": "markdown",
   "metadata": {},
   "source": [
    "*Try constructing a function yourself for $r(\\phi)$ by passing in $a$, $e$, and $\\phi$.* Note: in Python, $e$ is a defined constant.  Thus, define the eccentricity variable as something like `ecc` or another name of your choice.  Trig functions are in numpy as e.g. `np.cos()`."
   ]
  },
  {
   "cell_type": "code",
   "execution_count": null,
   "metadata": {},
   "outputs": [],
   "source": []
  },
  {
   "cell_type": "markdown",
   "metadata": {},
   "source": [
    "#### Circular and Eccentric Orbits"
   ]
  },
  {
   "cell_type": "markdown",
   "metadata": {},
   "source": [
    "*Now, compute $r(\\phi)$ for a circular orbit with semi-major axis 1 AU.*"
   ]
  },
  {
   "cell_type": "code",
   "execution_count": null,
   "metadata": {},
   "outputs": [],
   "source": []
  },
  {
   "cell_type": "markdown",
   "metadata": {},
   "source": [
    "*Make a plot of $r(\\phi)$ in the $(x,y)$ plane, transforming $r(\\phi)$ and $\\phi$ into $x$ and $y$. Also, plot the central star on your plot.  Use `ax.set_aspect(1)` to make the plot circular.*"
   ]
  },
  {
   "cell_type": "code",
   "execution_count": null,
   "metadata": {},
   "outputs": [],
   "source": []
  },
  {
   "cell_type": "markdown",
   "metadata": {},
   "source": [
    "Your plot is pretty boring, right?  Just a circle.  *Now try plotting the orbit of an eccentric planet. Again use `ax.set_aspect(1)`*"
   ]
  },
  {
   "cell_type": "code",
   "execution_count": null,
   "metadata": {},
   "outputs": [],
   "source": []
  },
  {
   "cell_type": "markdown",
   "metadata": {},
   "source": [
    "#### Plotting a planetary system\n",
    "\n",
    "*Finally, plot a real planetary system with more than 3 planets.  This can be the Solar System, or you can use the catalog [here](https://exoplanetarchive.ipac.caltech.edu/) to search for other multi-planet systems.*\n",
    "\n",
    "- It's OK to neglect the argument of periapse $\\omega$.  You could add $\\omega$ to your function for $r(\\phi)$, but it's not required.\n",
    "- It's OK to neglect inclination and just plot 2D orbits."
   ]
  },
  {
   "cell_type": "code",
   "execution_count": null,
   "metadata": {},
   "outputs": [],
   "source": []
  },
  {
   "cell_type": "markdown",
   "metadata": {},
   "source": [
    "### Submission\n",
    "Export this notebook as PDF (see top instructions) and submit it on gradescope."
   ]
  },
  {
   "cell_type": "markdown",
   "metadata": {},
   "source": [
    "  \n",
    "  "
   ]
  }
 ],
 "metadata": {
  "kernelspec": {
   "display_name": "Python 3",
   "language": "python",
   "name": "python3"
  },
  "language_info": {
   "codemirror_mode": {
    "name": "ipython",
    "version": 3
   },
   "file_extension": ".py",
   "mimetype": "text/x-python",
   "name": "python",
   "nbconvert_exporter": "python",
   "pygments_lexer": "ipython3",
   "version": "3.8.8"
  }
 },
 "nbformat": 4,
 "nbformat_minor": 2
}
